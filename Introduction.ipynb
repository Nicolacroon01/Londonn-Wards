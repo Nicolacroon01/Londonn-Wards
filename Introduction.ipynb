{
 "cells": [
  {
   "cell_type": "markdown",
   "metadata": {},
   "source": [
    "## Introduction to \"London Wards project\""
   ]
  },
  {
   "cell_type": "markdown",
   "metadata": {},
   "source": [
    "This analysis is addressed to those who seek to open a Pizza place in London. The goal is to understand which area is the most suitable.\n",
    "\n",
    "When I went to London, last year, I had some difficoulties to find some Italian and Pizza places.\n",
    "With this notebook my goal is to find where the pizza places are located and, thanks to this information, understand if could it be convenient or not to open a pizza restaurant in a Ward of London. \n",
    "I found on that link: https://www.doogal.co.uk/AdministrativeAreas.php?district=E09000001 all the Wards associated to latitude and longitude in London. It is a csv file that and I will use it later. In this csv the information that I gained are: the postal codes, latitude, longitude, wards and some other data that, honestly, are not relevant for my analysis. \n",
    "\n",
    "I will use Foursquare location data to explore the Wards and see what types of restourant we can find in each of them. What I want to find with the use of the Foursquare location data is which ward has many pizza restaurants inside it, as well as other types of restaurant. \n",
    "Given the dataset with all the Ward I will explore each ward, look at the number of restaurants, look which ward is the suitable for opening a pizza place. \n",
    "\n",
    "My metric to decide if it is convinient or not to open a pizza place is based on the concentartion of competition."
   ]
  }
 ],
 "metadata": {
  "kernelspec": {
   "display_name": "Python 3",
   "language": "python",
   "name": "python3"
  },
  "language_info": {
   "codemirror_mode": {
    "name": "ipython",
    "version": 3
   },
   "file_extension": ".py",
   "mimetype": "text/x-python",
   "name": "python",
   "nbconvert_exporter": "python",
   "pygments_lexer": "ipython3",
   "version": "3.7.4"
  }
 },
 "nbformat": 4,
 "nbformat_minor": 4
}
